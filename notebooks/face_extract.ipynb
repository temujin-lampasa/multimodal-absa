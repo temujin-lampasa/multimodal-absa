{
 "cells": [
  {
   "cell_type": "markdown",
   "id": "finished-satin",
   "metadata": {},
   "source": [
    "This notebook shows the process of extracting features from the face. It detects 68 facial landmarks using `opencv` and `dlib`. Based on this video: https://www.youtube.com/watch?v=MrRGVOhARYY"
   ]
  },
  {
   "cell_type": "code",
   "execution_count": null,
   "id": "hazardous-belfast",
   "metadata": {},
   "outputs": [],
   "source": [
    "import numpy as np\n",
    "import cv2\n",
    "import dlib\n",
    "\n",
    "cap = cv2.VideoCapture(1)\n",
    "detector = dlib.get_frontal_face_detector()\n",
    "predictor = dlib.shape_predictor(\"../resources/shape_predictor_68_face_landmarks.dat\")\n",
    "\n",
    "while(True):\n",
    "    _, frame = cap.read()\n",
    "    gray = cv2.cvtColor(frame, cv2.COLOR_BGR2GRAY)\n",
    "    \n",
    "    faces = detector(gray)\n",
    "    for face in faces:\n",
    "        x1 = face.left()\n",
    "        y1 = face.top()\n",
    "        x2 = face.right()\n",
    "        y2 = face.bottom()\n",
    "        cv2.rectangle(frame, (x1, y1), (x2, y2), (0, 255, 0), 5)\n",
    "        \n",
    "        landmarks = predictor(gray, face)\n",
    "        for i in range(68):\n",
    "            x = landmarks.part(i).x\n",
    "            y = landmarks.part(i).y\n",
    "            cv2.circle(frame, (x, y), 3, (0, 255, 0), -1)\n",
    "    \n",
    "    cv2.imshow('frame', frame)\n",
    "    \n",
    "    key = cv2.waitKey(1)\n",
    "    if key == 27:\n",
    "        break\n",
    "\n",
    "# When everything done, release the capture\n",
    "cap.release()\n",
    "cv2.destroyAllWindows()"
   ]
  }
 ],
 "metadata": {
  "kernelspec": {
   "display_name": "Python 3",
   "language": "python",
   "name": "python3"
  },
  "language_info": {
   "codemirror_mode": {
    "name": "ipython",
    "version": 3
   },
   "file_extension": ".py",
   "mimetype": "text/x-python",
   "name": "python",
   "nbconvert_exporter": "python",
   "pygments_lexer": "ipython3",
   "version": "3.8.5"
  }
 },
 "nbformat": 4,
 "nbformat_minor": 5
}
