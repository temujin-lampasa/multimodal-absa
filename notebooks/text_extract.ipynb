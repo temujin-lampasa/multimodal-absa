{
 "cells": [
  {
   "cell_type": "markdown",
   "id": "bigger-religious",
   "metadata": {},
   "source": [
    "# Aspect-Based Sentiment Analysis\n",
    "\n",
    "Code modified from: https://medium.com/analytics-vidhya/aspect-based-sentiment-analysis-a-practical-approach-8f51029bbc4a"
   ]
  },
  {
   "cell_type": "code",
   "execution_count": 1,
   "id": "timely-recognition",
   "metadata": {},
   "outputs": [],
   "source": [
    "import stanza\n",
    "import nltk\n",
    "from nltk.corpus import stopwords\n",
    "from nltk.sentiment import SentimentIntensityAnalyzer"
   ]
  },
  {
   "cell_type": "code",
   "execution_count": 2,
   "id": "norman-gazette",
   "metadata": {},
   "outputs": [
    {
     "name": "stderr",
     "output_type": "stream",
     "text": [
      "Downloading https://raw.githubusercontent.com/stanfordnlp/stanza-resources/master/resources_1.2.0.json: 128kB [00:00, 13.5MB/s]                    \n",
      "2021-05-04 23:12:05 INFO: Downloading default packages for language: en (English)...\n",
      "2021-05-04 23:12:05 INFO: File exists: /Users/TL/stanza_resources/en/default.zip.\n",
      "2021-05-04 23:12:08 INFO: Finished downloading models and saved to /Users/TL/stanza_resources.\n",
      "[nltk_data] Downloading package stopwords to /Users/TL/nltk_data...\n",
      "[nltk_data]   Package stopwords is already up-to-date!\n",
      "[nltk_data] Downloading package punkt to /Users/TL/nltk_data...\n",
      "[nltk_data]   Package punkt is already up-to-date!\n",
      "[nltk_data] Downloading package averaged_perceptron_tagger to\n",
      "[nltk_data]     /Users/TL/nltk_data...\n",
      "[nltk_data]   Package averaged_perceptron_tagger is already up-to-\n",
      "[nltk_data]       date!\n",
      "[nltk_data] Downloading package vader_lexicon to\n",
      "[nltk_data]     /Users/TL/nltk_data...\n",
      "[nltk_data]   Package vader_lexicon is already up-to-date!\n"
     ]
    },
    {
     "data": {
      "text/plain": [
       "True"
      ]
     },
     "execution_count": 2,
     "metadata": {},
     "output_type": "execute_result"
    }
   ],
   "source": [
    "stanza.download('en')\n",
    "nltk.download('stopwords')\n",
    "nltk.download('punkt')\n",
    "nltk.download('averaged_perceptron_tagger')\n",
    "nltk.download('vader_lexicon')"
   ]
  },
  {
   "cell_type": "code",
   "execution_count": 3,
   "id": "capable-intermediate",
   "metadata": {},
   "outputs": [],
   "source": [
    "def absa(txt, nlp, stopwords, sia):\n",
    "    txt = txt.lower()\n",
    "    sent_list = nltk.sent_tokenize(txt)\n",
    "    \n",
    "    fcluster = []\n",
    "    totalfeatureList = []\n",
    "    finalcluster = []\n",
    "    dic = {}\n",
    "    \n",
    "    for sent in sent_list:\n",
    "        wordlist = nltk.word_tokenize(sent)\n",
    "        tags = nltk.pos_tag(wordlist)\n",
    "        \n",
    "        # Get new tokens and pos tags after joining nouns\n",
    "        new_wordlist = join_nouns(tags)\n",
    "        new_tags = nltk.pos_tag(new_wordlist)\n",
    "        \n",
    "        # Remove stopwords\n",
    "        new_tags = [i for i in new_tags if i[0] not in stopwords]\n",
    "        doc = nlp([new_wordlist])\n",
    "    \n",
    "        # Getting the dependency relations between the words\n",
    "        dep_node = []\n",
    "        for dep_edge in doc.sentences[0].dependencies:\n",
    "            dep_node.append([dep_edge[2].text, dep_edge[0].id, dep_edge[1]])\n",
    "        \n",
    "        # Convert to appropriate format\n",
    "        for node in dep_node:\n",
    "            if (int(node[1]) != 0):\n",
    "                node[1] = new_wordlist[(int(node[1]) - 1)]\n",
    "        \n",
    "        featureList = []\n",
    "        categories = []\n",
    "        for i in new_tags:\n",
    "            if(i[1]=='JJ' or i[1]=='NN' or i[1]=='JJR' or i[1]=='NNS' or i[1]=='RB'):\n",
    "                featureList.append(list(i)) # For features for each sentence\n",
    "                totalfeatureList.append(list(i)) # Stores the features of all the sentences in the text\n",
    "                categories.append(i[0])\n",
    "\n",
    "        for i in featureList:\n",
    "            filist = []\n",
    "            for j in dep_node:\n",
    "                if((j[0]==i[0] or j[1]==i[0]) and (j[2] in [\"nsubj\", \"acl:relcl\", \"obj\", \"dobj\", \"agent\", \"advmod\", \"amod\", \"neg\", \"prep_of\", \"acomp\", \"xcomp\", \"compound\"])):\n",
    "                    if(j[0]==i[0]):\n",
    "                        filist.append(j[1])\n",
    "                    else:\n",
    "                        filist.append(j[0])\n",
    "            fcluster.append([i[0], filist])\n",
    "            \n",
    "    for i in totalfeatureList:\n",
    "        dic[i[0]] = i[1]\n",
    "    \n",
    "    for i in fcluster:\n",
    "        if(dic[i[0]]==\"NN\"):\n",
    "            finalcluster.append(i)\n",
    "            \n",
    "    \n",
    "    # Sentiment Analysis\n",
    "    results = []\n",
    "    for aspect, opinion_words in finalcluster:\n",
    "        sentiment = sia.polarity_scores(\" \".join(opinion_words))['compound']\n",
    "        results.append((aspect, sentiment))\n",
    "        \n",
    "    return(results)"
   ]
  },
  {
   "cell_type": "code",
   "execution_count": 4,
   "id": "light-induction",
   "metadata": {},
   "outputs": [],
   "source": [
    "def join_nouns(pos_tag_list):\n",
    "    \"\"\"Given a list of 2-tuples (word, pos_tag),\n",
    "    join all consecutive 'NN' tags to create a new sentence.\n",
    "    \n",
    "    Returns:\n",
    "     -- final_text: the new sentence with joined nouns.\n",
    "     -- new_wordlist: the tokens for the new sentence.\n",
    "    \"\"\"\n",
    "    new_wordlist = []\n",
    "    noun_buffer = []\n",
    "    for idx, elem in enumerate(pos_tag_list):\n",
    "        word, pos = elem\n",
    "        if pos in (\"NN\", \"NNS\"):\n",
    "            noun_buffer.append(word)\n",
    "        else:\n",
    "            if noun_buffer:\n",
    "                new_wordlist.append(''.join(noun_buffer))\n",
    "                noun_buffer.clear()\n",
    "            new_wordlist.append(word)\n",
    "        \n",
    "        if idx == len(pos_tag_list)-1:\n",
    "            if noun_buffer:\n",
    "                new_wordlist.append(''.join(noun_buffer))\n",
    "#     final_text = ' '.join(new_wordlist[:-1]) + '.'\n",
    "    return new_wordlist"
   ]
  },
  {
   "cell_type": "code",
   "execution_count": 5,
   "id": "golden-bhutan",
   "metadata": {
    "tags": []
   },
   "outputs": [],
   "source": [
    "# Retrieve text from subtitle file\n",
    "with open(\"../resources/test_sub.vtt\") as f:\n",
    "    sub = f.readlines()\n",
    "\n",
    "sub = [line if line!='\\n' else '<BREAK>' for line in sub]\n",
    "text = \"\"\n",
    "for line in sub[3:]:\n",
    "    if line != \"<BREAK>\" and \"-->\" not in line:\n",
    "        text += line\n",
    "text = text.replace(\"\\n\", \" \")"
   ]
  },
  {
   "cell_type": "code",
   "execution_count": 6,
   "id": "ordinary-investigator",
   "metadata": {},
   "outputs": [
    {
     "name": "stderr",
     "output_type": "stream",
     "text": [
      "2021-05-04 23:12:10 INFO: Loading these models for language: en (English):\n",
      "=========================\n",
      "| Processor | Package   |\n",
      "-------------------------\n",
      "| tokenize  | combined  |\n",
      "| pos       | combined  |\n",
      "| lemma     | combined  |\n",
      "| depparse  | combined  |\n",
      "| sentiment | sstplus   |\n",
      "| ner       | ontonotes |\n",
      "=========================\n",
      "\n",
      "2021-05-04 23:12:10 INFO: Use device: cpu\n",
      "2021-05-04 23:12:10 INFO: Loading: tokenize\n",
      "2021-05-04 23:12:10 INFO: Loading: pos\n",
      "2021-05-04 23:12:10 INFO: Loading: lemma\n",
      "2021-05-04 23:12:10 INFO: Loading: depparse\n",
      "2021-05-04 23:12:11 INFO: Loading: sentiment\n",
      "2021-05-04 23:12:11 INFO: Loading: ner\n",
      "2021-05-04 23:12:11 INFO: Done loading processors!\n"
     ]
    }
   ],
   "source": [
    "nlp = stanza.Pipeline(lang='en', tokenize_pretokenized=True)\n",
    "sia = SentimentIntensityAnalyzer()\n",
    "stop = stopwords.words('english')"
   ]
  },
  {
   "cell_type": "code",
   "execution_count": 7,
   "id": "settled-overview",
   "metadata": {},
   "outputs": [],
   "source": [
    "res = sorted(absa(text[2:], nlp, stop, sia), key=lambda x: x[1], reverse=True)"
   ]
  },
  {
   "cell_type": "code",
   "execution_count": 8,
   "id": "introductory-liverpool",
   "metadata": {},
   "outputs": [],
   "source": [
    "final_res = {}\n",
    "counts = {}\n",
    "\n",
    "for aspect, polarity in res:\n",
    "    # Calculate running average polarity for each aspect\n",
    "    class_ = round(polarity)\n",
    "    counts[aspect] = counts.get(aspect, 0) + 1\n",
    "    final_res[aspect] = (final_res.get(aspect, 0) * (counts.get(aspect, 0)-1) + polarity) / (counts.get(aspect))\n",
    "    final_res[aspect] = round(final_res[aspect], 2)\n",
    "\n",
    "# Remove neutral words from final_res\n",
    "final_res = {k:v for k,v in final_res.items() if abs(v) > 0.1}"
   ]
  },
  {
   "cell_type": "code",
   "execution_count": 9,
   "id": "floppy-horse",
   "metadata": {},
   "outputs": [
    {
     "data": {
      "text/plain": [
       "[('color', 0.76),\n",
       " ('hdrcontentconsumptiondisplay', 0.64),\n",
       " ('microphone', 0.62),\n",
       " ('smoothness', 0.53),\n",
       " ('buck', 0.49),\n",
       " ('power', 0.49),\n",
       " ('darnloud', 0.49),\n",
       " ('environment', 0.49),\n",
       " ('someone', 0.46),\n",
       " ('spot', 0.46),\n",
       " ('job', 0.44),\n",
       " ('feel', 0.42),\n",
       " ('fluidity', 0.42),\n",
       " ('hertzdisplay', 0.42),\n",
       " ('everything', 0.4),\n",
       " ('approach', 0.4),\n",
       " ('tag', 0.4),\n",
       " ('step', 0.36),\n",
       " ('megapixelselfiecamera', 0.36),\n",
       " ('reaction', 0.32),\n",
       " ('leap', 0.32),\n",
       " ('stabilization', 0.3),\n",
       " ('s21name', 0.3),\n",
       " ('test', 0.2),\n",
       " ('battery', 0.19),\n",
       " ('touch', 0.15),\n",
       " ('point', 0.15),\n",
       " ('phone', 0.15),\n",
       " ('apple', 0.13),\n",
       " ('thing', -0.11),\n",
       " ('shooter', -0.11),\n",
       " ('couple', -0.12),\n",
       " ('speedadvantage', -0.24),\n",
       " ('awesome', -0.42),\n",
       " ('glass', -0.48),\n",
       " ('notch', -0.48),\n",
       " ('cpus', -0.51),\n",
       " ('beautifying', -0.53)]"
      ]
     },
     "execution_count": 9,
     "metadata": {},
     "output_type": "execute_result"
    }
   ],
   "source": [
    "sorted(final_res.items(), key=lambda x: x[1], reverse=True)"
   ]
  }
 ],
 "metadata": {
  "kernelspec": {
   "display_name": "Python 3",
   "language": "python",
   "name": "python3"
  },
  "language_info": {
   "codemirror_mode": {
    "name": "ipython",
    "version": 3
   },
   "file_extension": ".py",
   "mimetype": "text/x-python",
   "name": "python",
   "nbconvert_exporter": "python",
   "pygments_lexer": "ipython3",
   "version": "3.8.5"
  }
 },
 "nbformat": 4,
 "nbformat_minor": 5
}
